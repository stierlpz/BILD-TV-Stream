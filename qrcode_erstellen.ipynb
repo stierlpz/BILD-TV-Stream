{
  "nbformat": 4,
  "nbformat_minor": 0,
  "metadata": {
    "colab": {
      "name": "qrcode_erstellen.ipynb",
      "private_outputs": true,
      "provenance": [],
      "collapsed_sections": [
        "OZWVub-6pbTl"
      ],
      "authorship_tag": "ABX9TyO4BfYWkn5etzq22SFV59MR",
      "include_colab_link": true
    },
    "kernelspec": {
      "name": "python3",
      "display_name": "Python 3"
    },
    "language_info": {
      "name": "python"
    },
    "accelerator": "GPU"
  },
  "cells": [
    {
      "cell_type": "markdown",
      "metadata": {
        "id": "view-in-github",
        "colab_type": "text"
      },
      "source": [
        "<a href=\"https://colab.research.google.com/github/stierlpz/BILD-TV-Stream/blob/main/qrcode_erstellen.ipynb\" target=\"_parent\"><img src=\"https://colab.research.google.com/assets/colab-badge.svg\" alt=\"Open In Colab\"/></a>"
      ]
    },
    {
      "cell_type": "markdown",
      "metadata": {
        "id": "GK0i6jdGAviu"
      },
      "source": [
        "# Setup"
      ]
    },
    {
      "cell_type": "code",
      "metadata": {
        "id": "VuCHWIHmAqWT"
      },
      "source": [
        "import os #Erstellen Ornder\n",
        "\n",
        "if not os.path.exists('out/images/png'):\n",
        "    os.makedirs('out/images/png')\n",
        "\n",
        "if not os.path.exists('out/images/jpg'):\n",
        "    os.makedirs('out/images/jpg')    \n",
        "\n",
        "if not os.path.exists('out/images/gif'):\n",
        "    os.makedirs('out/images/gif')\n",
        "\n",
        "if not os.path.exists('out/audio/mp3'):\n",
        "    os.makedirs('out/audio/mp3')\n",
        "\n",
        "if not os.path.exists('out/audio/wav'):\n",
        "    os.makedirs('out/audio/wav')\n",
        "\n",
        "if not os.path.exists('out/audio/ogg'):\n",
        "    os.makedirs('out/audio/ogg')    \n",
        "\n",
        "if not os.path.exists('out/text/txt'):\n",
        "    os.makedirs('out/text/txt')    \n",
        "\n",
        "if not os.path.exists('out/text/odt'):\n",
        "    os.makedirs('out/text/odt')        \n",
        "\n",
        "if not os.path.exists('out/text/pdf'):\n",
        "    os.makedirs('out/text/pdf')        "
      ],
      "execution_count": null,
      "outputs": []
    },
    {
      "cell_type": "code",
      "metadata": {
        "id": "96RA8s4WA4c8"
      },
      "source": [
        "pip install pillow #Erstellen Bildverarbeitung"
      ],
      "execution_count": null,
      "outputs": []
    },
    {
      "cell_type": "code",
      "metadata": {
        "id": "IACGaOEMA_Du"
      },
      "source": [
        "pip install qrcode #Erstellen QR-Code"
      ],
      "execution_count": null,
      "outputs": []
    },
    {
      "cell_type": "code",
      "metadata": {
        "id": "zkvsHLSrBBGH"
      },
      "source": [
        "import qrcode #Import QR-Code"
      ],
      "execution_count": null,
      "outputs": []
    },
    {
      "cell_type": "code",
      "metadata": {
        "id": "ZGZTuOOqs778"
      },
      "source": [
        "pip install gTTS #Erstellen Text too Spech (Audio)"
      ],
      "execution_count": null,
      "outputs": []
    },
    {
      "cell_type": "code",
      "metadata": {
        "id": "BvLMduw6vh-l"
      },
      "source": [
        "from gtts import gTTS #Import Text too Spech (Audio)\n",
        "import os\n",
        "from io import BytesIO"
      ],
      "execution_count": null,
      "outputs": []
    },
    {
      "cell_type": "code",
      "metadata": {
        "id": "IiuBG82xSEVG"
      },
      "source": [
        "pip install fpdf #Erstellen PDF"
      ],
      "execution_count": null,
      "outputs": []
    },
    {
      "cell_type": "code",
      "metadata": {
        "id": "jUf3wLHZSJJv"
      },
      "source": [
        "from fpdf import FPDF #Import PDF"
      ],
      "execution_count": null,
      "outputs": []
    },
    {
      "cell_type": "markdown",
      "metadata": {
        "id": "6Y3p7j2EBFhZ"
      },
      "source": [
        "#QR-Code erstellen\n",
        "\n",
        "Die fertigen Codes liegen im Ordner 'out/images'."
      ]
    },
    {
      "cell_type": "code",
      "metadata": {
        "id": "m-IE5SRTBOc-"
      },
      "source": [
        "text=(input('Eingabe: '))\n",
        "\n",
        "input_data = text\n",
        "\n",
        "dn=(input('Name der Datei (OHNE DATEITYP!):  '))\n",
        "\n",
        "print('-------------------------------------------------------------')\n",
        "print(text,'wird als ',dn,'_qr gespeichert.')\n",
        "print('-------------------------------------------------------------')\n",
        "\n",
        "qr = qrcode.QRCode(\n",
        "        version=5,\n",
        "        box_size=5,\n",
        "        border=5)\n",
        "qr.add_data(input_data)\n",
        "qr.make(fit=True)\n",
        "\n",
        "img = qr.make_image(fill='black', back_color='white')\n",
        "\n",
        "img.save('out/images/png/'+dn+'_qr.png')\n",
        "img.save('out/images/jpg/'+dn+'_qr.jpg')\n",
        "img.save('out/images/gif/'+dn+'_qr.gif')\n",
        "\n",
        "print('-------------------------------------------------------------')\n",
        "print('Images gespeichert als: ')\n",
        "print('out/images/png/'+dn+'_qr.png')\n",
        "print('out/images/jpg/'+dn+'_qr.jpg')\n",
        "print('out/images/gif/'+dn+'_qr.gif')\n",
        "print('-------------------------------------------------------------')"
      ],
      "execution_count": null,
      "outputs": []
    },
    {
      "cell_type": "markdown",
      "metadata": {
        "id": "OZWVub-6pbTl"
      },
      "source": [
        "\n",
        "\n",
        "# Audio\n",
        "Die fertigen Audios liegen im Ordner 'out/audio'."
      ]
    },
    {
      "cell_type": "code",
      "metadata": {
        "id": "Df6j9ozfpV88"
      },
      "source": [
        "language='de'\n",
        "\n",
        "tts = gTTS(text,\n",
        "          lang=language,\n",
        "          slow=False,\n",
        "          lang_check=True,\n",
        "\n",
        "          )\n",
        "tts.save('out/audio/mp3/'+dn+'_qr.mp3')\n",
        "tts.save('out/audio/wav/'+dn+'_qr.wav')\n",
        "tts.save('out/audio/ogg/'+dn+'_qr.ogg')\n",
        "\n",
        "print('-------------------------------------------------------------')\n",
        "print('Audios gespeichert als: ')\n",
        "print('out/audio/mp3/'+dn+'_qr.mp3')\n",
        "print('out/audio/wav/'+dn+'_qr.wav')\n",
        "print('out/audio/ogg/'+dn+'_qr.ogg')\n",
        "print('-------------------------------------------------------------')\n"
      ],
      "execution_count": null,
      "outputs": []
    },
    {
      "cell_type": "markdown",
      "metadata": {
        "id": "HD6D4PBs7vJV"
      },
      "source": [
        "# Text\n",
        "Die fertigen Texte liegen im Ordner 'out/text'."
      ]
    },
    {
      "cell_type": "code",
      "metadata": {
        "id": "8eKNeP1a74DT"
      },
      "source": [
        "file = open('out/text/txt/'+dn+'.txt','w+')\n",
        "file.write('Inhalt des QR-Code: '+text)\n",
        "file.close()\n",
        "\n",
        "file = open('out/text/odt/'+dn+'.odt','w+')\n",
        "file.write('Inhalt des QR-Code: '+text)\n",
        "file.close()\n",
        "pdf = FPDF()\n",
        "pdf.add_page()\n",
        "pdf.set_font(\"Arial\", size = 15)\n",
        "pdf.cell(200, 10, txt = 'Inhalt des Qr-Codes '+dn+':', \n",
        "         ln = 1, align = 'C')\n",
        "pdf.cell(200, 10, txt = text,\n",
        "         ln = 2, align = 'C')\n",
        "pdf.output('out/text/pdf/'+dn+'_qr.pdf')\n",
        "\n",
        "print('-------------------------------------------------------------')\n",
        "print('Text gespeichert als: ')\n",
        "print('out/text/txt/'+dn+'_qr.txt')\n",
        "print('out/text/odt/'+dn+'_qr.odt')\n",
        "print('-------------------------------------------------------------')\n",
        "print('PDF gespeichert als: ')\n",
        "print('out/text/pdf/'+dn+'_qr.pdf')\n",
        "print('-------------------------------------------------------------')"
      ],
      "execution_count": null,
      "outputs": []
    }
  ]
}